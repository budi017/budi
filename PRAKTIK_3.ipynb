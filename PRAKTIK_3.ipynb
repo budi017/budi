{
  "nbformat": 4,
  "nbformat_minor": 0,
  "metadata": {
    "colab": {
      "provenance": [],
      "authorship_tag": "ABX9TyPbSHdml13TFe5e/CS53Zmh",
      "include_colab_link": true
    },
    "kernelspec": {
      "name": "python3",
      "display_name": "Python 3"
    },
    "language_info": {
      "name": "python"
    }
  },
  "cells": [
    {
      "cell_type": "markdown",
      "metadata": {
        "id": "view-in-github",
        "colab_type": "text"
      },
      "source": [
        "<a href=\"https://colab.research.google.com/github/budi017/budi/blob/main/PRAKTIK_3.ipynb\" target=\"_parent\"><img src=\"https://colab.research.google.com/assets/colab-badge.svg\" alt=\"Open In Colab\"/></a>"
      ]
    },
    {
      "cell_type": "markdown",
      "source": [
        "Soal No 1\n",
        "\n",
        "Manipulasi String dengan Slicing\n",
        "\n",
        "kalimat = \"Hari Ini Adalah Hari Ketiga Saya Mengikuti Kegiatan Ngobar\"\n",
        "\n",
        "Ambil dan tampilkan 6 karakter pertama dari string tersebut.\n",
        "\n",
        "Ambil dan tampilkan 5 karakter terakhir dari string tersebut.\n",
        "\n",
        "Ambil dan tampilkan kata \"Ketiga\" dari string tersebut.\n",
        "\n",
        "Tampilkan string tersebut dengan urutan terbalik."
      ],
      "metadata": {
        "id": "SbdgI2hAllG3"
      }
    },
    {
      "cell_type": "code",
      "source": [
        "# String yang diberikan\n",
        "kalimat = \"Hari Ini Adalah Hari Ketiga Saya Mengikuti Kegiatan Ngobar\"\n",
        "\n",
        "# Ambil dan tampilkan 6 karakter pertama\n",
        "karakter_pertama = kalimat[:6]\n",
        "print(\"6 karakter pertama:\", karakter_pertama)\n",
        "\n",
        "# Ambil dan tampilkan 5 karakter terakhir\n",
        "karakter_terakhir = kalimat[-5:]\n",
        "print(\"5 karakter terakhir:\", karakter_terakhir)\n",
        "\n",
        "# Ambil dan tampilkan kata \"Ketiga\"\n",
        "kata_ketiga = kalimat[20:26]\n",
        "print(\"Kata 'Ketiga':\", kata_ketiga)\n",
        "\n",
        "# Tampilkan string dengan urutan terbalik\n",
        "kalimat_terbalik = kalimat[::-1]\n",
        "print(\"String dengan urutan terbalik:\", kalimat_terbalik)\n"
      ],
      "metadata": {
        "id": "QsMv_RXqlmtA"
      },
      "execution_count": null,
      "outputs": []
    },
    {
      "cell_type": "markdown",
      "source": [
        "Soal No 2\n",
        "\n",
        "Concatenation String\n",
        "\n",
        "Buatlah 3 Variabel String (Kalimatnya Terserah) Lalu Kerjakan:\n",
        "\n",
        "Gabungkan ketiga Variabel menggunakan operator + dan tampilkan hasilnya.\n",
        "Gabungkan ketiga Variabel menggunakan f-string dan tampilkan hasilnya.\n",
        "Gabungkan ketiga kata di atas menggunakan method .join() dan tampilkan hasilnya."
      ],
      "metadata": {
        "id": "hsxGmH79l0l8"
      }
    },
    {
      "cell_type": "code",
      "source": [
        "# Buat 3 variabel string\n",
        "string1 = \"Belajar Python \"\n",
        "string2 = \"sangat menyenangkan \"\n",
        "string3 = \"dan bermanfaat.\"\n",
        "\n",
        "# 1. Gabungkan menggunakan operator +\n",
        "hasil_plus = string1 + string2 + string3\n",
        "print(\"Hasil dengan operator +:\", hasil_plus)\n",
        "\n",
        "# 2. Gabungkan menggunakan f-string\n",
        "hasil_fstring = f\"{string1}{string2}{string3}\"\n",
        "print(\"Hasil dengan f-string:\", hasil_fstring)\n",
        "\n",
        "# 3. Gabungkan menggunakan method .join()\n",
        "hasil_join = \" \".join([string1.strip(), string2.strip(), string3.strip()])\n",
        "print(\"Hasil dengan method .join():\", hasil_join)\n"
      ],
      "metadata": {
        "id": "9hY61Sw5l30r"
      },
      "execution_count": null,
      "outputs": []
    },
    {
      "cell_type": "markdown",
      "source": [
        "Soal No 3 Menghitung Jumlah Karakter dan Kata\n",
        "\n",
        "tex_soal=\"aku adalah seorang kapten dari sebuah tim sepak bola liga 3 liga belgia\"\n",
        "\n",
        "yang harus dilakukan:\n",
        "\n",
        "Hitung dan tampilkan jumlah karakter dalam string tersebut.\n",
        "Hitung dan tampilkan jumlah kata dalam string tersebut."
      ],
      "metadata": {
        "id": "riyHqgI3mNCa"
      }
    },
    {
      "cell_type": "code",
      "source": [
        "# String yang diberikan\n",
        "tex_soal = \"aku adalah seorang kapten dari sebuah tim sepak bola liga 3 liga belgia\"\n",
        "\n",
        "# 1. Menghitung jumlah karakter\n",
        "jumlah_karakter = len(tex_soal)\n",
        "print(\"Jumlah karakter:\", jumlah_karakter)\n",
        "\n",
        "# 2. Menghitung jumlah kata\n",
        "jumlah_kata = len(tex_soal.split())\n",
        "print(\"Jumlah kata:\", jumlah_kata)\n"
      ],
      "metadata": {
        "id": "ufGZsCySmT6R"
      },
      "execution_count": null,
      "outputs": []
    },
    {
      "cell_type": "markdown",
      "source": [
        "Soal No 4\n",
        "\n",
        "Hitunglah nilai rata-rata, nilai minimum, dan nilai maksimum dari array NumPy berikut:\n",
        "\n",
        "import numpy as np\n",
        "\n",
        "arr = np.array([1, 5, 2, 9, 7, 3])\n",
        "\n",
        "Yang Harus Dilakukan\n",
        "\n",
        "Import library NumPy dan buat array seperti yang ditunjukkan di atas.\n",
        "Gunakan fungsi-fungsi NumPy yang sesuai untuk menghitung nilai rata-rata (mean), nilai minimum (min), dan nilai maksimum (max) dari array tersebut.\n",
        "Tampilkan hasil perhitungan tersebut. Petunjuk:"
      ],
      "metadata": {
        "id": "LXr6ho2KmZWn"
      }
    },
    {
      "cell_type": "code",
      "source": [
        "import numpy as np\n",
        "\n",
        "# Buat array\n",
        "arr = np.array([1, 5, 2, 9, 7, 3])\n",
        "\n",
        "# Menghitung nilai rata-rata\n",
        "mean = np.mean(arr)\n",
        "\n",
        "# Menghitung nilai minimum\n",
        "minimum = np.min(arr)\n",
        "\n",
        "# Menghitung nilai maksimum\n",
        "maximum = np.max(arr)\n",
        "\n",
        "# Tampilkan hasil\n",
        "print(\"Nilai rata-rata:\", mean)\n",
        "print(\"Nilai minimum:\", minimum)\n",
        "print(\"Nilai maksimum:\", maximum)\n"
      ],
      "metadata": {
        "id": "8688GwJ8mfAs"
      },
      "execution_count": null,
      "outputs": []
    }
  ]
}