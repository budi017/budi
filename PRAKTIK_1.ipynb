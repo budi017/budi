{
  "nbformat": 4,
  "nbformat_minor": 0,
  "metadata": {
    "colab": {
      "provenance": [],
      "authorship_tag": "ABX9TyMhWIUIT0bmiY3e5P0BeHV2",
      "include_colab_link": true
    },
    "kernelspec": {
      "name": "python3",
      "display_name": "Python 3"
    },
    "language_info": {
      "name": "python"
    }
  },
  "cells": [
    {
      "cell_type": "markdown",
      "metadata": {
        "id": "view-in-github",
        "colab_type": "text"
      },
      "source": [
        "<a href=\"https://colab.research.google.com/github/budi017/budi/blob/main/PRAKTIK_1.ipynb\" target=\"_parent\"><img src=\"https://colab.research.google.com/assets/colab-badge.svg\" alt=\"Open In Colab\"/></a>"
      ]
    },
    {
      "cell_type": "markdown",
      "source": [
        "Soal No 1\n",
        "\n",
        "Kalkulator Sederhana\n",
        "\n",
        "Buatlah program yang meminta pengguna untuk memasukkan dua angka dan operator aritmatika (+, -, *, /).\n",
        "Program kemudian menghitung hasil operasi berdasarkan input pengguna dan menampilkannya.\n",
        "Gunakan percabangan if-elif-else untuk menentukan operator yang digunakan."
      ],
      "metadata": {
        "id": "lrqNAJqaynM1"
      }
    },
    {
      "cell_type": "code",
      "execution_count": null,
      "metadata": {
        "id": "rKJ7WpFFssG9"
      },
      "outputs": [],
      "source": [
        "# Meminta input dari pengguna\n",
        "angka1 = float(input(\"Masukkan angka pertama: \"))\n",
        "angka2 = float(input(\"Masukkan angka kedua: \"))\n",
        "operator = input(\"Masukkan operator (+, -, *, /): \")\n",
        "\n",
        "# Menghitung hasil berdasarkan operator yang dipilih\n",
        "if operator == '+':\n",
        "    hasil = angka1 + angka2\n",
        "    print(f\"{angka1} + {angka2} = {hasil}\")\n",
        "elif operator == '-':\n",
        "    hasil = angka1 - angka2\n",
        "    print(f\"{angka1} - {angka2} = {hasil}\")\n",
        "elif operator == '*':\n",
        "    hasil = angka1 * angka2\n",
        "    print(f\"{angka1} * {angka2} = {hasil}\")\n",
        "elif operator == '/':\n",
        "    if angka2 != 0:  # Mencegah pembagian dengan nol\n",
        "        hasil = angka1 / angka2\n",
        "        print(f\"{angka1} / {angka2} = {hasil}\")\n",
        "    else:\n",
        "        print(\"Error: Pembagian dengan nol tidak diperbolehkan!\")\n",
        "else:\n",
        "    print(\"Error: Operator tidak valid!\")"
      ]
    },
    {
      "cell_type": "markdown",
      "source": [
        "Soal No 2\n",
        "\n",
        "Menampilkan Deret Fibonacci\n",
        "\n",
        "Buatlah program yang menampilkan deret Fibonacci hingga batas tertentu yang ditentukan oleh pengguna.\n",
        "Deret Fibonacci dimulai dengan 0 dan 1, dan setiap angka berikutnya adalah jumlah dari dua angka sebelumnya (0, 1, 1, 2, 3, 5, 8, ...).\n",
        "Gunakan perulangan for atau while untuk menghasilkan deret."
      ],
      "metadata": {
        "id": "dg4yA1Qny53G"
      }
    },
    {
      "cell_type": "code",
      "source": [
        "# Meminta input dari pengguna\n",
        "batas = int(input(\"Masukkan batas deret Fibonacci: \"))\n",
        "\n",
        "# Inisialisasi dua angka pertama\n",
        "a, b = 0, 1\n",
        "\n",
        "print(\"Deret Fibonacci hingga\", batas, \"adalah:\")\n",
        "print(a, end=\" \")  # Menampilkan angka pertama (0)\n",
        "\n",
        "# Menghasilkan deret hingga mencapai batas\n",
        "while b <= batas:\n",
        "    print(b, end=\" \")\n",
        "    # Menghitung angka Fibonacci berikutnya\n",
        "    a, b = b, a + b"
      ],
      "metadata": {
        "id": "7BOemnoTy6YC"
      },
      "execution_count": null,
      "outputs": []
    },
    {
      "cell_type": "code",
      "source": [
        "Masukkan batas deret Fibonacci: 100\n",
        "Deret Fibonacci hingga 100 adalah:\n",
        "0 1 1 2 3 5 8 13 21 34 55 89"
      ],
      "metadata": {
        "id": "Cr7ZFWaSzeks"
      },
      "execution_count": null,
      "outputs": []
    },
    {
      "cell_type": "code",
      "source": [
        "batas = int(input(\"Masukkan jumlah angka dalam deret: \"))\n",
        "\n",
        "# Inisialisasi dua angka pertama\n",
        "fibonacci = [0, 1]\n",
        "\n",
        "# Menghasilkan deret sebanyak yang diminta\n",
        "for i in range(2, batas):\n",
        "    fibonacci.append(fibonacci[i-1] + fibonacci[i-2])\n",
        "\n",
        "print(\"Deret Fibonacci:\", end=\" \")\n",
        "for angka in fibonacci:\n",
        "    print(angka, end=\" \")"
      ],
      "metadata": {
        "id": "x03Qr1_0zlXf"
      },
      "execution_count": null,
      "outputs": []
    },
    {
      "cell_type": "markdown",
      "source": [
        "Soal No 3\n",
        "\n",
        "Mencari Nilai Maksimum dan Minimum dalam List\n",
        "\n",
        "Buatlah program yang meminta pengguna untuk memasukkan serangkaian angka dan menyimpannya dalam sebuah list.\n",
        "Program kemudian mencari nilai maksimum dan minimum dalam list tersebut dan menampilkannya.\n",
        "Gunakan fungsi max() dan min() untuk mencari nilai maksimum dan minimum.\n"
      ],
      "metadata": {
        "id": "HBfXy9hzzp5L"
      }
    },
    {
      "cell_type": "code",
      "source": [
        "# Membuat list kosong untuk menyimpan angka\n",
        "angka_list = []\n",
        "\n",
        "# Meminta input dari pengguna\n",
        "while True:\n",
        "    input_user = input(\"Masukkan angka (tekan Enter tanpa input untuk selesai): \")\n",
        "\n",
        "    # Cek apakah pengguna sudah selesai memasukkan angka\n",
        "    if input_user == \"\":\n",
        "        break\n",
        "\n",
        "    # Menambahkan angka ke dalam list\n",
        "    try:\n",
        "        angka = float(input_user)\n",
        "        angka_list.append(angka)\n",
        "    except ValueError:\n",
        "        print(\"Input tidak valid! Masukkan angka yang benar.\")\n",
        "\n",
        "# Mencari nilai maksimum dan minimum jika list tidak kosong\n",
        "if angka_list:\n",
        "    nilai_max = max(angka_list)\n",
        "    nilai_min = min(angka_list)\n",
        "\n",
        "    print(\"\\nHasil analisis:\")\n",
        "    print(f\"Angka yang dimasukkan: {angka_list}\")\n",
        "    print(f\"Nilai maksimum: {nilai_max}\")\n",
        "    print(f\"Nilai minimum: {nilai_min}\")\n",
        "else:\n",
        "    print(\"\\nTidak ada angka yang dimasukkan!\")"
      ],
      "metadata": {
        "id": "EUcjFOa3zqYR"
      },
      "execution_count": null,
      "outputs": []
    }
  ]
}